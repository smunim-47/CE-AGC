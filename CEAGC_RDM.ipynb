{
 "cells": [
  {
   "cell_type": "code",
   "execution_count": 1,
   "id": "051cee7d",
   "metadata": {},
   "outputs": [],
   "source": [
    "import numpy as np\n",
    "import networkx as nx\n",
    "import matplotlib.pyplot as plt\n",
    "import os\n",
    "import itertools"
   ]
  },
  {
   "cell_type": "code",
   "execution_count": 2,
   "id": "e5db6b0f",
   "metadata": {},
   "outputs": [],
   "source": [
    "\n",
    "# def generate_combinations(n, s):\n",
    "#     # Create a range from 1 to n (inclusive)\n",
    "#     numbers = range(1, n + 1)\n",
    "    \n",
    "#     # Generate all combinations of length s\n",
    "#     combinations = list(itertools.combinations(numbers, s))\n",
    "    \n",
    "#     return combinations"
   ]
  },
  {
   "cell_type": "code",
   "execution_count": 3,
   "id": "19ade33f",
   "metadata": {},
   "outputs": [],
   "source": [
    "A= np.load('BIBD91.npy')\n",
    "# A = np.load('srg_126_25_8_4.npy')\n",
    "# q = 9\n",
    "# n_1 = q**2 +q+ 1\n",
    "# n_2 = q**2 +q+ 1\n",
    "# d_1 = q+1\n",
    "# d_2 = q+1\n",
    "# K = designs.projective_plane(q)\n",
    "# A = np.array(K.incidence_matrix())\n",
    "\n",
    "\n",
    "\n",
    "# n1 = 8\n",
    "# n2 = n1\n",
    "# d1 = 1\n",
    "# d2 = 1\n",
    "# A = np.eye(n1)\n",
    "\n",
    "\n",
    "# K = designs.balanced_incomplete_block_design(37, 10, 5)\n",
    "# A = K.incidence_matrix()\n",
    "# A = np.array(A).T\n",
    "\n",
    "n_1 = A.shape[0]\n",
    "n_2 = A.shape[1]\n",
    "d_1 = (A@A.T)[0,0]\n",
    "d_2 = (A.T@A)[0,0]\n",
    "\n",
    "# #m = 3\n",
    "# k = 1\n",
    "\n",
    "RR = A.T@A\n",
    "lmd = RR[0,1]\n",
    "\n",
    "# lmd = 8\n",
    "# mu = 4\n",
    "\n"
   ]
  },
  {
   "cell_type": "code",
   "execution_count": 4,
   "id": "d23d93d3",
   "metadata": {},
   "outputs": [
    {
     "name": "stdout",
     "output_type": "stream",
     "text": [
      "91 91 10 10 1\n"
     ]
    }
   ],
   "source": [
    "print(n_2,n_1,d_2,d_1, lmd)"
   ]
  },
  {
   "cell_type": "code",
   "execution_count": 5,
   "id": "3a3bfd3b-94bf-4773-b13f-213cc9dea942",
   "metadata": {},
   "outputs": [
    {
     "data": {
      "text/plain": [
       "array([[10,  1,  1, ...,  1,  1,  1],\n",
       "       [ 1, 10,  1, ...,  1,  1,  1],\n",
       "       [ 1,  1, 10, ...,  1,  1,  1],\n",
       "       ...,\n",
       "       [ 1,  1,  1, ..., 10,  1,  1],\n",
       "       [ 1,  1,  1, ...,  1, 10,  1],\n",
       "       [ 1,  1,  1, ...,  1,  1, 10]], dtype=int64)"
      ]
     },
     "execution_count": 5,
     "metadata": {},
     "output_type": "execute_result"
    }
   ],
   "source": [
    "A.T@A"
   ]
  },
  {
   "cell_type": "code",
   "execution_count": 6,
   "id": "49842819",
   "metadata": {},
   "outputs": [],
   "source": [
    "\n",
    "m = 2\n",
    "\n",
    "F = np.kron(np.eye(m), np.ones((n_1,1)))\n",
    "# E = np.sqrt(1/2)*A\n",
    "# for i in range(m-1):\n",
    "#     E = np.vstack((E,np.sqrt(1/2)*A))\n",
    "E = np.vstack((A,A))"
   ]
  },
  {
   "cell_type": "code",
   "execution_count": 7,
   "id": "b503e74a-82ba-41e4-8723-7de1693de620",
   "metadata": {},
   "outputs": [
    {
     "data": {
      "text/plain": [
       "(182, 91)"
      ]
     },
     "execution_count": 7,
     "metadata": {},
     "output_type": "execute_result"
    }
   ],
   "source": [
    "E.shape"
   ]
  },
  {
   "cell_type": "code",
   "execution_count": 8,
   "id": "7f194397",
   "metadata": {},
   "outputs": [],
   "source": [
    "\n",
    "p = 15\n",
    "n_w = E.shape[1]\n",
    "n_p = n_1\n",
    "s_list= np.linspace(0, (.25*(n_w)), p + 1, dtype=int)[1:]\n",
    "\n",
    "frac_stragglers = s_list/n_w\n",
    "\n"
   ]
  },
  {
   "cell_type": "code",
   "execution_count": 9,
   "id": "5f44d532",
   "metadata": {},
   "outputs": [],
   "source": [
    "\n",
    "# opt_err_array = np.zeros((len(s_list), itr))\n",
    "# opt_max = np.zeros(len(s_list))\n",
    "# opt_min = np.zeros(len(s_list))\n",
    "\n",
    "# opt_err_array_1 = np.zeros((len(s_list), itr))\n",
    "# opt_max_1 = np.zeros(len(s_list))\n",
    "# opt_min_1 = np.zeros(len(s_list))\n",
    "\n",
    "# exp_opt_err_array_1 = np.zeros((len(s_list), itr))\n",
    "# exp_max_1 = np.zeros(len(s_list))\n",
    "# exp_min_1 = np.zeros(len(s_list))"
   ]
  },
  {
   "cell_type": "code",
   "execution_count": 10,
   "id": "710c5e71-d93c-4a81-b413-79b0cf0387f3",
   "metadata": {},
   "outputs": [],
   "source": [
    "d_choices = 100\n",
    "itr = 1000"
   ]
  },
  {
   "cell_type": "code",
   "execution_count": 11,
   "id": "0d687a2e-4760-4779-897e-2c3070ce7e2c",
   "metadata": {},
   "outputs": [],
   "source": [
    "exp_opt_error = np.zeros((len(s_list)))\n",
    "exp_fixed_diag = np.zeros((len(s_list), d_choices))"
   ]
  },
  {
   "cell_type": "code",
   "execution_count": 12,
   "id": "1c09ba71-fbb8-4489-87a7-6305a05312b0",
   "metadata": {},
   "outputs": [],
   "source": [
    "# x = np.linspace(0 , 1 , 10001)[1:]\n",
    "# uniform = np.sort(np.concatenate((x, -1*x)))\n",
    "# a_p = (1/len(uniform))*np.ones((len(uniform)))"
   ]
  },
  {
   "cell_type": "code",
   "execution_count": 13,
   "id": "ca8a9a37",
   "metadata": {},
   "outputs": [],
   "source": [
    "\n",
    "for i in range(len(s_list)):\n",
    "    l = 0\n",
    "    for k in range(d_choices):\n",
    "            #print(i,k)\n",
    "            #print(\"diags\")\n",
    "            #print(\"AHHHHHHHH\")\n",
    "           \n",
    "            #d_v_1 = np.random.randn(n_2)\n",
    "            #d_v_1 = np.random.choice(uniform, size= (n_2), p=a_p)\n",
    "            #print(d_v_1)\n",
    "            #d_v_1 = np.random.choice([-1/4,-1/2, 1/2, 1/4], size= (n_2), p=[0.35, 0.15, 0.15, 0.35])\n",
    "            #d_v_2 = np.sqrt(1 - d_v_1**2)\n",
    "            #d_v_2 = np.random.randn(n_2)\n",
    "           \n",
    "            #d_v_2 = np.random.choice(uniform, size= (n_2), p=a_p)\n",
    "            #print(d_v_2)\n",
    "            #d_v_2 = np.random.choice([-1/4,-1/2, 1/2, 1/4], size= (n_2), p=[0.25, 0.25, 0.25, 0.25])\n",
    "            \n",
    "            # D3 = np.diag(np.random.choice([1, -1], size= (n_2), p=[0.5, 0.5]))\n",
    "            \n",
    "            \n",
    "            # D2 = np.random.randn(n_1,n_2)\n",
    "            #D2 = np.random.choice([-1, 1], size=(n_1, n_2))\n",
    "            #D1 = np.random.randn(n_1,n_2)\n",
    "            #D2 = np.random.randn(n_1,n_2)\n",
    "            # D3 = np.diag(np.random.choice([1, -1], size= (n_2), p=[0.5, 0.5]))\n",
    "            # D4 = np.diag(np.random.choice([1, -1], size= (n_2), p=[0.5, 0.5]))\n",
    "            # E1 = np.vstack((A,np.multiply(A,D2)))\n",
    "\n",
    "        \n",
    "            np.random.seed(k)\n",
    "            d_v_1 = np.random.choice([1, -1], size= (n_2), p=[0.5, 0.5])\n",
    "            D1 = np.diag(d_v_1)\n",
    "            d_v_2 = np.random.choice([1, -1], size= (n_2), p=[0.5, 0.5])\n",
    "            D2 = np.diag(d_v_2)\n",
    "            E1 = np.vstack((A@D1, A@D2))\n",
    "\n",
    "            c = 0\n",
    "            for j in range(itr): \n",
    "                    #print(i,j)\n",
    "                    np.random.seed(j+k)\n",
    "                    random_non_stragglers = np.random.choice(np.arange(0, n_w), int(n_w-s_list[i]), replace=False)\n",
    "                    random_non_stragglers = np.sort(random_non_stragglers)\n",
    "                    E_F_1 = E1[:, random_non_stragglers]\n",
    "        #             print(random_non_stragglers.shape)\n",
    "                    #print(random_non_stragglers)\n",
    "                    opt_err = 0\n",
    "                    opt_err_1 = 0\n",
    "                    exp_opt_err_1 = 0\n",
    "                    \n",
    "                    for t in range(F.shape[1]):\n",
    "        #                       z = H[t, :].conj().T\n",
    "        #                       z =  np.reshape(z, (m,1)) \n",
    "        #                       b = (1/m) *(H@z)\n",
    "        #                       b = np.reshape(b, (m,1)) \n",
    "                              a = F[:,t]\n",
    "                              a = np.reshape(a, (m*n_p,1))\n",
    "                              #print(a)\n",
    "        \n",
    "        \n",
    "                              #E_F = E[:, random_non_stragglers]\n",
    "                             \n",
    "        #                       D1_tilde = D1[np.ix_(random_non_stragglers, random_non_stragglers)]\n",
    "        #                       D2_tilde = D2[np.ix_(random_non_stragglers, random_non_stragglers)]\n",
    "        #                       #print(D1_tilde)\n",
    "        #                       A_F = A[:, random_non_stragglers]\n",
    "        #                       p = np.ones((n1,1))\n",
    "        #                       print(a.shape)\n",
    "        #                       print(p.shape)\n",
    "        #                       print(A_F.shape)\n",
    "        #                       print(D2_tilde.shape)\n",
    "                              #opt_err = opt_err + a.T@a-a.T@E_F@ np.transpose(np.linalg.inv(np.transpose(E_F)@E_F))@E_F.T@a\n",
    "                              x, residuals, rank, s = np.linalg.lstsq(E_F_1, a, rcond=None)\n",
    "                              opt_err_1 = opt_err_1 + np.linalg.norm(E_F_1@x-a,2)**2\n",
    "                              # opt_err_1 = opt_err_1 + a.conj().T@a-a.conj().T@E_F_1@ np.linalg.inv(E_F_1.conj().T@E_F_1).conj().T@E_F_1.conj().T@a  \n",
    "                              #opt_err = opt_err + a.conj().T@a-a.conj().T@E_F@ np.linalg.inv(E_F.conj().T@E_F).conj().T@E_F.conj().T@a\n",
    "        #                       exp_opt_err_1 = exp_opt_err_1 + a.T@a - a.T@E_F_1@np.linalg.inv(D1_tilde.T@A_F.T@A_F@D1_tilde +D2_tilde.T@A_F.T@A_F@D2_tilde)@E_F_1.T@a \n",
    "        # #                       exp_opt_err_1 = exp_opt_err_1 + a.T@a - p.T@A_F@np.linalg.inv(A_F.T@A_F+A_F.T@A_F)@A_F.T@p \n",
    "                              #print(np.imag(opt_err))  \n",
    "        \n",
    "                    #print(opt_err_1.item())\n",
    "                    #opt_err_array[i,j] = np.sqrt((np.real(opt_err.item())))\n",
    "                    c = c +  ((np.real(opt_err_1.item())))\n",
    "                    #opt_err_array_1[i,j] = np.sqrt((np.real(opt_err_1.item())))\n",
    "                    #exp_opt_err_array_1[i,j] = np.sqrt((np.real(exp_opt_err_1.item())))\n",
    "        #             ss = np.zeros(m)\n",
    "        #             prt = np.zeros(m)\n",
    "        #             for g in range(m):\n",
    "        #                 ss[g] = n2- ((random_non_stragglers >= g*n2) & (random_non_stragglers < (g+1)*n2 )).sum()\n",
    "        #                 prt[g] =((n2 - ss[g])/(d2 +lmd*( n2 - ss[g] - 1)))\n",
    "        \n",
    "                    #print(ss)\n",
    "                    #print(ss.sum())\n",
    "                    #print(prt)\n",
    "                     \n",
    "            \n",
    "            #print(c)\n",
    "            exp_fixed_diag[i,k] = c/itr \n",
    "            l = l+c \n",
    "            #print(l)\n",
    "            # opt_max[i] = np.max(opt_err_array[i,:])\n",
    "            # opt_min[i] = np.min(opt_err_array[i, :])\n",
    "            # opt_max_1[i] = np.max(opt_err_array_1[i,:])\n",
    "            # opt_min_1[i] = np.min(opt_err_array_1[i, :])\n",
    "            \n",
    "            # exp_max_1[i] = np.max(exp_opt_err_array_1[i,:])\n",
    "            # exp_min_1[i] = np.min(exp_opt_err_array_1[i,:])\n",
    "        \n",
    "        \n",
    "        \n",
    "    exp_opt_error[i] = l/(d_choices*itr)    \n",
    "    #print(\"avg\")\n",
    "    #print(exp_opt_error[i])\n"
   ]
  },
  {
   "cell_type": "code",
   "execution_count": 14,
   "id": "ccb1527d-2d39-470f-a431-d39a2c6b69a4",
   "metadata": {},
   "outputs": [],
   "source": [
    "new_lower_bound = np.zeros((len(s_list)))\n",
    "lb = np.zeros((m))\n",
    "for i in range(len(s_list)):\n",
    "  for j in range(m):\n",
    "      lb[j] = np.floor((s_list[i] + m - j -1)/d_2) * (j+1)\n",
    "  new_lower_bound[i] = np.max(lb) "
   ]
  },
  {
   "cell_type": "code",
   "execution_count": 15,
   "id": "8aa2d8a7-7ea7-47ec-936a-7900e0285822",
   "metadata": {},
   "outputs": [],
   "source": [
    "opt_err_array = np.zeros((len(s_list), itr))\n",
    "opt_max = np.zeros(len(s_list))\n",
    "opt_min = np.zeros(len(s_list))\n",
    "opt_avg = np.zeros(len(s_list))"
   ]
  },
  {
   "cell_type": "code",
   "execution_count": 16,
   "id": "d520435d-9905-423a-9250-457f98220c9d",
   "metadata": {},
   "outputs": [],
   "source": [
    "for i in range(len(s_list)):\n",
    "    for j in range(itr):\n",
    "            #print(i,j)\n",
    "            np.random.seed(78+j)\n",
    "            # random_non_stragglers = np.random.choice(np.arange(0, n_w), int(n_w-s_list[i]), replace=False)\n",
    "            random_stragglers = np.random.choice(np.arange(0, int(n_w)), int(s_list[i]), replace=False)\n",
    "            random_non_stragglers = np.setdiff1d(np.arange(0, n_w),random_stragglers)\n",
    "            random_non_stragglers = np.sort(random_non_stragglers)\n",
    "            E_F = E[:, random_non_stragglers]\n",
    "            # E_F_1 = E1[:, random_non_stragglers]\n",
    "            # E_F_2 = E2[:, random_non_stragglers]\n",
    "            # P_F = P[:, random_non_stragglers]\n",
    "            # Q_F = Q[:, random_non_stragglers]\n",
    "            # R_F = R[:, random_non_stragglers]\n",
    "            # E_F_3 = E3[:, random_non_stragglers]\n",
    "            #print(random_non_stragglers.shape)\n",
    "            #print(random_non_stragglers)\n",
    "            #print(E_F.shape)\n",
    "            #print(E_F_1.shape)\n",
    "            opt_err = 0\n",
    "            # opt_err_1 = 0\n",
    "            # opt_err_2 = 0\n",
    "            # opt_err_3 = 0\n",
    "\n",
    "            for t in range(m):\n",
    "\n",
    "                      a = F[:,t]\n",
    "                      a = np.reshape(a, (m*n_p,1))\n",
    "\n",
    "                      #print(a)\n",
    "                      # print(a.conj().T@a-a.conj().T@E_F@ np.linalg.inv(E_F.conj().T@E_F).conj().T@E_F.conj().T@a)\n",
    "\n",
    "\n",
    "\n",
    "                      #opt_err = opt_err + a.T@a-a.T@E_F@ np.transpose(np.linalg.inv(np.transpose(E_F)@E_F))@E_F.T@a\n",
    "                      # s1 = a.conj().T@a-a.conj().T@E_F@ np.linalg.inv(E_F.conj().T@E_F).conj().T@E_F.conj().T@a\n",
    "                      # opt_err = opt_err + a.conj().T@a-a.conj().T@E_F@ np.linalg.inv(E_F.conj().T@E_F).conj().T@E_F.conj().T@a\n",
    "                      x, residuals, rank, s = np.linalg.lstsq(E_F, a, rcond=None)\n",
    "                      opt_err = opt_err + np.linalg.norm(E_F@x-a,2)**2\n",
    "                      # x, residuals, rank, s = np.linalg.lstsq(E_F_1, a, rcond=None)\n",
    "                      # opt_err_1 = opt_err_1 + np.linalg.norm(E_F_1@x-a,2)**2\n",
    "                      # x, residuals, rank, s = np.linalg.lstsq(E_F_2, a, rcond=None)\n",
    "                      # opt_err_2 = opt_err_2 + np.linalg.norm(E_F_2@x-a,2)**2\n",
    "                      #print(residuals)\n",
    "                      # opt_err_2 = opt_err_2 + a.conj().T@a-a.conj().T@E_F_2@ np.linalg.inv(E_F_2.conj().T@E_F_2).conj().T@E_F_2.conj().T@a\n",
    "\n",
    "\n",
    "\n",
    "                      # print('norm')\n",
    "                      # print(np.linalg.norm(E_F.conj().T@a, 2))\n",
    "                      # print('eig')\n",
    "                      # print(np.sort(np.linalg.eigvals(E_F.T@E_F))[-1])\n",
    "                      # print(((np.linalg.norm(E_F.conj().T@a, 2)**2 )/np.sort(np.linalg.eigvals(E_F.T@E_F))[-1]))\n",
    "                      #print(np.sort(np.linalg.eigvals(E_F.T@E_F))[-1])\n",
    "                      #opt_err_1 = opt_err_1 + a.conj().T@a-a.conj().T@E_F_1@ np.linalg.inv(E_F_1.conj().T@E_F_1).conj().T@E_F_1.conj().T@a\n",
    "                      # x, residuals, rank, s = np.linalg.lstsq(E_F_2, a, rcond=None)\n",
    "                      # print(residuals)\n",
    "                      # # opt_err_2 = opt_err_2 + a.conj().T@a-a.conj().T@E_F_2@ np.linalg.inv(E_F_2.conj().T@E_F_2).conj().T@E_F_2.conj().T@a\n",
    "                      # if residuals.size > 0:\n",
    "                      #   opt_err_2 = opt_err_2 + residuals[0]\n",
    "                      # else:\n",
    "                      #     opt_err_2 = opt_err_2 + 0\n",
    "\n",
    "\n",
    "                      # opt_err_3 = opt_err_3 + a.conj().T@a-a.conj().T@E_F_3@ np.linalg.inv(E_F_3.conj().T@E_F_3).conj().T@E_F_3.conj().T@a\n",
    "                      #print(np.imag(opt_err))\n",
    "\n",
    "            #print(opt_err.item())\n",
    "            opt_err_array[i,j] = (np.real(opt_err))\n",
    "            # opt_err_array_1[i,j] = (np.real(opt_err_1))\n",
    "            # opt_err_array_2[i,j] = (np.real(opt_err_2))\n",
    "            # # tilde_p = P_F.T@P_F + Q_F.T@Q_F\n",
    "            # tilde_p = P_F.T@P_F + Q_F.T@Q_F +  R_F.T@R_F\n",
    "            # tilde_A =  np.diag(np.diag(tilde_p) + np.sum(np.abs(tilde_p), axis=1) - np.abs(np.diag(tilde_p)))\n",
    "\n",
    "\n",
    "            # b_opt_err_array[i,j] = m*n_p - ones.T@P_F@la.inv(tilde_A)@P_F.T@ones - ones.T@Q_F@la.inv(tilde_A)@Q_F.T@ones-  ones.T@R_F@la.inv(tilde_A)@R_F.T@ones\n",
    "            # opt_err_array_1[i,j] = (np.real(opt_err_1.item()))\n",
    "            # opt_err_array_2[i,j] = opt_err_2\n",
    "            # opt_err_array_3[i,j] = (np.real(opt_err_3.item()))\n",
    "            # ss = np.zeros(m)\n",
    "            # prt = np.zeros(m)\n",
    "            # for g in range(m):\n",
    "            #     ss[g] = int(n_2/m)- ((random_non_stragglers >= g*(int(n_2/m))) & (random_non_stragglers < (g+1)*(int(n_2/m)) )).sum()\n",
    "            #     prt[g] =((int(n_2/m) - ss[g])/(d_2 +lmd*( int(n_2/m) - ss[g] - 1)))\n",
    "            # exp_err_array_3[i, :] = m*n_p - (d_2^2)*np.sum(prt)\n",
    "\n",
    "            #print(ss)\n",
    "            #print(ss.sum())\n",
    "            #print(prt)\n",
    "\n",
    "\n",
    "\n",
    "    opt_max[i] = np.max(opt_err_array[i,:])\n",
    "    opt_min[i] = np.min(opt_err_array[i, :])\n",
    "    opt_avg[i] = np.mean(opt_err_array[i, :])\n",
    "\n",
    "    # opt_max_1[i] = np.max(opt_err_array_1[i,:])\n",
    "    # opt_min_1[i] = np.min(opt_err_array_1[i, :])\n",
    "    # opt_avg_1[i] = np.mean(opt_err_array_1[i, :])\n",
    "\n",
    "    # opt_max_2[i] = np.max(opt_err_array_2[i,:])\n",
    "    # opt_min_2[i] = np.min(opt_err_array_2[i, :])\n",
    "    # opt_avg_2[i] = np.mean(opt_err_array_2[i, :])\n",
    "\n",
    "    # b_opt_max[i] = np.max(b_opt_err_array[i,:])\n",
    "    # b_opt_min[i] = np.min(b_opt_err_array[i, :])\n",
    "    # b_opt_avg[i] = np.mean(b_opt_err_array[i, :])\n",
    "    # opt_max_3[i] = np.max(opt_err_array_3[i,:])\n",
    "    # opt_min_3[i] = np.min(opt_err_array_3[i, :])\n",
    "#     exp_max[i] = np.max(exp_opt_err_array[i, :])\n",
    "#     exp_min[i] = np.min(exp_opt_err_array[i, :])\n",
    "\n",
    "\n",
    "\n"
   ]
  },
  {
   "cell_type": "code",
   "execution_count": 17,
   "id": "b7d3ec18-af0d-4339-abb1-40c4f1491cd1",
   "metadata": {},
   "outputs": [],
   "source": [
    "exp_bound_bernoulli = (m*n_p - ((m*d_2**2*(n_w-s_list))/((m*d_2 - lmd) + lmd*(n_w-s_list))))\n",
    "# exp_bound_bernoulli = (m*n_p - ((m*d_2**2*(n_w-s_list))/((m*d_2 - mu) + mu*(n_w-s_list)+ (lmd - mu)*d_2)))"
   ]
  },
  {
   "cell_type": "code",
   "execution_count": 18,
   "id": "edb5a426-99a2-4b4f-9bd2-c155a0906116",
   "metadata": {},
   "outputs": [],
   "source": [
    "opt_trivial = (m*n_p - ((d_2**2*(n_w-s_list))/((d_2 - lmd) + lmd*(n_w-s_list))))"
   ]
  },
  {
   "cell_type": "code",
   "execution_count": 19,
   "id": "9d62cb78-fad4-4d15-8012-a98b4fb44436",
   "metadata": {},
   "outputs": [
    {
     "data": {
      "text/plain": [
       "array([ 1,  3,  4,  6,  7,  9, 10, 12, 13, 15, 16, 18, 19, 21, 22])"
      ]
     },
     "execution_count": 19,
     "metadata": {},
     "output_type": "execute_result"
    }
   ],
   "source": [
    "s_list"
   ]
  },
  {
   "cell_type": "code",
   "execution_count": 23,
   "id": "41c3e302-74e2-404c-b69e-9dad216ddf0a",
   "metadata": {},
   "outputs": [
    {
     "data": {
      "image/png": "[encoded data removed]",
      "text/plain": [
       "<Figure size 640x480 with 1 Axes>"
      ]
     },
     "metadata": {},
     "output_type": "display_data"
    }
   ],
   "source": [
    "\n",
    "plt.plot(frac_stragglers,exp_bound_bernoulli, color = 'green', marker ='o', label = r'Upp. Bd.')\n",
    "plt.plot(frac_stragglers, exp_opt_error, color = 'blue', marker ='^', label = 'Emp. Avg. Err.')\n",
    "plt.plot(frac_stragglers, opt_avg, color = 'red', marker ='s', label = 'Err. Base. Cons.')\n",
    "plt.plot(frac_stragglers, new_lower_bound, color = 'Orange', marker ='x', label = 'Low. Bd.')\n",
    "\n",
    "\n",
    "\n",
    "plt.xlabel(r'Straggler Fraction $(\\frac{s}{n})$', fontsize = 15)\n",
    "plt.ylabel('Approximation Error', fontsize = 15)\n",
    "plt.legend(fontsize='large',loc='upper left')\n",
    "plt.rc('text', usetex=True)\n",
    "plt.grid(True)\n",
    "#plt.title('Approximation Error vs Fraction of Workers Straggling', fontsize = 15)\n",
    "plt.savefig('ISIT_2025_plot_1(91,91,10,10)_BIBD_v_2.pdf')"
   ]
  },
  {
   "cell_type": "code",
   "execution_count": 21,
   "id": "d43cd150-4025-42ca-9a14-6f9ea25c8453",
   "metadata": {},
   "outputs": [
    {
     "data": {
      "text/plain": [
       "array([ 1,  3,  4,  6,  7,  9, 10, 12, 13, 15, 16, 18, 19, 21, 22])"
      ]
     },
     "execution_count": 21,
     "metadata": {},
     "output_type": "execute_result"
    }
   ],
   "source": [
    "s_list"
   ]
  },
  {
   "cell_type": "code",
   "execution_count": null,
   "id": "2a33a812-23f8-4b86-b6e5-b9025db103af",
   "metadata": {},
   "outputs": [],
   "source": [
    "exp_bound_bernoulli"
   ]
  },
  {
   "cell_type": "code",
   "execution_count": null,
   "id": "511aeb90-4662-46d5-8b4d-400a4cbedefd",
   "metadata": {},
   "outputs": [],
   "source": [
    "A.shape"
   ]
  },
  {
   "cell_type": "code",
   "execution_count": null,
   "id": "09998b0a-6202-48e1-bb13-5f709fa585d9",
   "metadata": {},
   "outputs": [],
   "source": []
  }
 ],
 "metadata": {
  "kernelspec": {
   "display_name": "Python 3 (ipykernel)",
   "language": "python",
   "name": "python3"
  },
  "language_info": {
   "codemirror_mode": {
    "name": "ipython",
    "version": 3
   },
   "file_extension": ".py",
   "mimetype": "text/x-python",
   "name": "python",
   "nbconvert_exporter": "python",
   "pygments_lexer": "ipython3",
   "version": "3.11.10"
  }
 },
 "nbformat": 4,
 "nbformat_minor": 5
}
